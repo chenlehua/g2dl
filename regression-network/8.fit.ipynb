{
 "cells": [
  {
   "cell_type": "markdown",
   "id": "a9695423-627c-421f-b46e-91e9675afa4a",
   "metadata": {},
   "source": [
    "# 过拟合和欠拟合\n",
    "模型容量要匹配数据复杂度，否则可能导致欠拟合和过拟合\n",
    "\n",
    "![模型复杂度对欠拟合和过拟合的影响](../img/capacity-vs-error.svg)\n",
    "\n",
    "\n",
    "影响模型复杂度因素，参数个数和每个参数的范围\n",
    "\n",
    "## 权重衰退\n",
    "控制参数范围，限制$\\| \\mathbf{w} \\|$的大小\n",
    "\n",
    "## Droput\n",
    "![dropout前后的多层感知机](../img/dropout2.svg)"
   ]
  },
  {
   "cell_type": "markdown",
   "id": "3f0f79de-2ce6-4934-a679-683ad0605ca7",
   "metadata": {},
   "source": [
    "# 梯度爆炸和梯度消失\n",
    "发生在深度模型中，根据链式法则，因为会对n个数累成\n",
    "## 梯度爆炸\n",
    "对学习率敏感，太小->训练无进展，太大->更大的梯度，需要不断调整学习率\n",
    "\n",
    "值超出值域\n",
    "## 梯度消失\n",
    "梯度值变成0\n",
    "\n",
    "不管如何调整学习率，训练没有进展\n",
    "\n",
    "对于底部尤为严重\n",
    "\n",
    "## 让训练更加稳定\n",
    "让梯度值在合理的范围内，例如[1e-6,1e3]\n",
    "\n",
    "梯度归一化，梯度裁剪\n",
    "\n",
    "合理的权重初始和激活函数（每一层的输出和每一层梯度都是均值为0，方差为一个固定数的随机变量，权重初始使用xavier）"
   ]
  },
  {
   "cell_type": "code",
   "execution_count": null,
   "id": "dc619938-499d-43a7-806d-ba9e38d0bfb4",
   "metadata": {},
   "outputs": [],
   "source": []
  }
 ],
 "metadata": {
  "kernelspec": {
   "display_name": "Python 3 (ipykernel)",
   "language": "python",
   "name": "python3"
  },
  "language_info": {
   "codemirror_mode": {
    "name": "ipython",
    "version": 3
   },
   "file_extension": ".py",
   "mimetype": "text/x-python",
   "name": "python",
   "nbconvert_exporter": "python",
   "pygments_lexer": "ipython3",
   "version": "3.10.8"
  }
 },
 "nbformat": 4,
 "nbformat_minor": 5
}

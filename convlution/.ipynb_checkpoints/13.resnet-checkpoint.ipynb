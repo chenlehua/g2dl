{
 "cells": [
  {
   "cell_type": "markdown",
   "id": "1b36336f-9942-4cc6-8ed8-417fbc8d01d1",
   "metadata": {},
   "source": [
    "## ResNet\n",
    "\n",
    "![一个正常块（左图）和一个残差块（右图）。](../img/residual-block.svg)"
   ]
  },
  {
   "cell_type": "code",
   "execution_count": null,
   "id": "72bd824f-6480-4e18-80f4-7ada68997848",
   "metadata": {},
   "outputs": [],
   "source": []
  }
 ],
 "metadata": {
  "kernelspec": {
   "display_name": "Python 3 (ipykernel)",
   "language": "python",
   "name": "python3"
  },
  "language_info": {
   "codemirror_mode": {
    "name": "ipython",
    "version": 3
   },
   "file_extension": ".py",
   "mimetype": "text/x-python",
   "name": "python",
   "nbconvert_exporter": "python",
   "pygments_lexer": "ipython3",
   "version": "3.10.8"
  }
 },
 "nbformat": 4,
 "nbformat_minor": 5
}

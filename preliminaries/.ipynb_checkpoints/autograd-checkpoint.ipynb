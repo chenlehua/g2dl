{
 "cells": [
  {
   "cell_type": "code",
   "execution_count": 1,
   "id": "7f65a6d3-cc4e-4c98-b3b3-76928af697a1",
   "metadata": {},
   "outputs": [],
   "source": [
    "import torch"
   ]
  },
  {
   "cell_type": "code",
   "execution_count": 4,
   "id": "32342399-8e25-4dd6-b032-cda2825aff3b",
   "metadata": {},
   "outputs": [],
   "source": [
    "x = torch.arange(4.0)"
   ]
  },
  {
   "cell_type": "code",
   "execution_count": 5,
   "id": "8b1a5699-a20b-482c-910c-c33e9a274650",
   "metadata": {},
   "outputs": [
    {
     "data": {
      "text/plain": [
       "tensor([0., 1., 2., 3.])"
      ]
     },
     "execution_count": 5,
     "metadata": {},
     "output_type": "execute_result"
    }
   ],
   "source": [
    "x"
   ]
  },
  {
   "cell_type": "code",
   "execution_count": 7,
   "id": "2713b607-0f2c-4eab-967d-8702899e2901",
   "metadata": {},
   "outputs": [
    {
     "data": {
      "text/plain": [
       "tensor([0., 1., 2., 3.], requires_grad=True)"
      ]
     },
     "execution_count": 7,
     "metadata": {},
     "output_type": "execute_result"
    }
   ],
   "source": [
    "x.requires_grad_(True)"
   ]
  },
  {
   "cell_type": "code",
   "execution_count": 9,
   "id": "7acbfeb2-9c55-425c-8705-f98905474ff4",
   "metadata": {},
   "outputs": [],
   "source": [
    "y = 2 * torch.dot(x, x)"
   ]
  },
  {
   "cell_type": "code",
   "execution_count": 10,
   "id": "71c4db22-84c5-4169-8f8a-e92617b70ba2",
   "metadata": {},
   "outputs": [
    {
     "data": {
      "text/plain": [
       "tensor(28., grad_fn=<MulBackward0>)"
      ]
     },
     "execution_count": 10,
     "metadata": {},
     "output_type": "execute_result"
    }
   ],
   "source": [
    "y"
   ]
  },
  {
   "cell_type": "code",
   "execution_count": 15,
   "id": "62b29f10-b3b9-44da-9794-a81c07151096",
   "metadata": {},
   "outputs": [
    {
     "data": {
      "text/plain": [
       "<function MulBackward0.register_hook>"
      ]
     },
     "execution_count": 15,
     "metadata": {},
     "output_type": "execute_result"
    }
   ],
   "source": [
    "y.grad_fn.register_hook"
   ]
  },
  {
   "cell_type": "code",
   "execution_count": 16,
   "id": "1f8be1e4-bfcd-4d48-9d42-89cfc30af48a",
   "metadata": {},
   "outputs": [],
   "source": [
    "x.grad"
   ]
  },
  {
   "cell_type": "code",
   "execution_count": 17,
   "id": "d2203f67-9747-4e9b-933b-170370837e62",
   "metadata": {},
   "outputs": [],
   "source": [
    "y.backward()"
   ]
  },
  {
   "cell_type": "code",
   "execution_count": 18,
   "id": "02d50377-6c73-403e-80c6-a77e426413f2",
   "metadata": {},
   "outputs": [
    {
     "data": {
      "text/plain": [
       "tensor([ 0.,  4.,  8., 12.])"
      ]
     },
     "execution_count": 18,
     "metadata": {},
     "output_type": "execute_result"
    }
   ],
   "source": [
    "x.grad"
   ]
  },
  {
   "cell_type": "code",
   "execution_count": 19,
   "id": "d9fd6167-4775-4181-9108-a22a2b06fff0",
   "metadata": {},
   "outputs": [
    {
     "data": {
      "text/plain": [
       "tensor([True, True, True, True])"
      ]
     },
     "execution_count": 19,
     "metadata": {},
     "output_type": "execute_result"
    }
   ],
   "source": [
    "x.grad == 4*x"
   ]
  },
  {
   "cell_type": "code",
   "execution_count": 20,
   "id": "1ad8ad0f-14e8-46c7-8ef2-4955fec1a62e",
   "metadata": {},
   "outputs": [
    {
     "data": {
      "text/plain": [
       "tensor([0., 0., 0., 0.])"
      ]
     },
     "execution_count": 20,
     "metadata": {},
     "output_type": "execute_result"
    }
   ],
   "source": [
    "x.grad.zero_()"
   ]
  },
  {
   "cell_type": "code",
   "execution_count": 21,
   "id": "39c91e0a-7792-43d3-b8ed-9ff9c7d26a2e",
   "metadata": {},
   "outputs": [],
   "source": [
    "y = x.sum()"
   ]
  },
  {
   "cell_type": "code",
   "execution_count": 22,
   "id": "95677c52-16bc-4783-82bf-da56f13565f2",
   "metadata": {},
   "outputs": [],
   "source": [
    "y.backward()"
   ]
  },
  {
   "cell_type": "code",
   "execution_count": 23,
   "id": "a17636dd-de16-49e7-957a-ed1fbee3d643",
   "metadata": {},
   "outputs": [
    {
     "data": {
      "text/plain": [
       "tensor([1., 1., 1., 1.])"
      ]
     },
     "execution_count": 23,
     "metadata": {},
     "output_type": "execute_result"
    }
   ],
   "source": [
    "x.grad"
   ]
  },
  {
   "cell_type": "code",
   "execution_count": 24,
   "id": "21630fb8-437a-4fb7-96d1-4af448da7810",
   "metadata": {},
   "outputs": [
    {
     "data": {
      "text/plain": [
       "tensor([0., 0., 0., 0.])"
      ]
     },
     "execution_count": 24,
     "metadata": {},
     "output_type": "execute_result"
    }
   ],
   "source": [
    "x.grad.zero_()"
   ]
  },
  {
   "cell_type": "code",
   "execution_count": 25,
   "id": "5ce27bf3-87fa-4f5d-997b-4665c7e2c67d",
   "metadata": {},
   "outputs": [],
   "source": [
    "y = x*x"
   ]
  },
  {
   "cell_type": "code",
   "execution_count": 26,
   "id": "d66f21b6-e239-4f26-864f-918003be3295",
   "metadata": {},
   "outputs": [],
   "source": [
    "y.sum().backward()"
   ]
  },
  {
   "cell_type": "code",
   "execution_count": 27,
   "id": "95978b86-35ba-4916-ad80-4a09e4728102",
   "metadata": {},
   "outputs": [
    {
     "data": {
      "text/plain": [
       "tensor([0., 2., 4., 6.])"
      ]
     },
     "execution_count": 27,
     "metadata": {},
     "output_type": "execute_result"
    }
   ],
   "source": [
    "x.grad"
   ]
  },
  {
   "cell_type": "code",
   "execution_count": 28,
   "id": "3cfd2ad2-4db0-466f-afe3-73ca1f70f0c0",
   "metadata": {},
   "outputs": [
    {
     "data": {
      "text/plain": [
       "tensor([0., 0., 0., 0.])"
      ]
     },
     "execution_count": 28,
     "metadata": {},
     "output_type": "execute_result"
    }
   ],
   "source": [
    "x.grad.zero_()"
   ]
  },
  {
   "cell_type": "code",
   "execution_count": 29,
   "id": "4e24ced1-da63-4185-a1c0-f3a30361667c",
   "metadata": {},
   "outputs": [],
   "source": [
    "y = x* x"
   ]
  },
  {
   "cell_type": "code",
   "execution_count": 30,
   "id": "f0933de4-0cec-4a88-aab5-07c0b2511d89",
   "metadata": {},
   "outputs": [],
   "source": [
    "u = y.detach()"
   ]
  },
  {
   "cell_type": "code",
   "execution_count": 31,
   "id": "491550a1-3d9b-4ae6-8381-34af9aa79473",
   "metadata": {},
   "outputs": [],
   "source": [
    "z= u*x"
   ]
  },
  {
   "cell_type": "code",
   "execution_count": 32,
   "id": "91e72695-efd5-4328-95b9-1c55e8273656",
   "metadata": {},
   "outputs": [],
   "source": [
    "z.sum().backward()"
   ]
  },
  {
   "cell_type": "code",
   "execution_count": 33,
   "id": "4d17ecfe-9eb2-4dbd-8fc3-668337a8a4fe",
   "metadata": {
    "scrolled": true
   },
   "outputs": [
    {
     "data": {
      "text/plain": [
       "tensor([True, True, True, True])"
      ]
     },
     "execution_count": 33,
     "metadata": {},
     "output_type": "execute_result"
    }
   ],
   "source": [
    "x.grad == u"
   ]
  },
  {
   "cell_type": "code",
   "execution_count": 34,
   "id": "8bfe4839-a066-48ea-bc75-0554f813fe43",
   "metadata": {},
   "outputs": [
    {
     "data": {
      "text/plain": [
       "tensor([0., 1., 4., 9.])"
      ]
     },
     "execution_count": 34,
     "metadata": {},
     "output_type": "execute_result"
    }
   ],
   "source": [
    "u"
   ]
  },
  {
   "cell_type": "code",
   "execution_count": 35,
   "id": "a91227f5-6ac6-4ce8-bc49-696913bb092d",
   "metadata": {},
   "outputs": [
    {
     "data": {
      "text/plain": [
       "tensor([0., 0., 0., 0.])"
      ]
     },
     "execution_count": 35,
     "metadata": {},
     "output_type": "execute_result"
    }
   ],
   "source": [
    "x.grad.zero_()"
   ]
  },
  {
   "cell_type": "code",
   "execution_count": 36,
   "id": "b05783e5-3b44-4b9e-bdb1-901055d40fa0",
   "metadata": {},
   "outputs": [],
   "source": [
    "y.sum().backward()"
   ]
  },
  {
   "cell_type": "code",
   "execution_count": 37,
   "id": "b90e5f5e-935c-4ee8-b4e6-9cd40e90fa4e",
   "metadata": {},
   "outputs": [
    {
     "data": {
      "text/plain": [
       "tensor([True, True, True, True])"
      ]
     },
     "execution_count": 37,
     "metadata": {},
     "output_type": "execute_result"
    }
   ],
   "source": [
    "x.grad == 2*x"
   ]
  },
  {
   "cell_type": "code",
   "execution_count": 44,
   "id": "ad58d878-4d88-48c5-bf80-4992051af45f",
   "metadata": {
    "editable": true,
    "slideshow": {
     "slide_type": ""
    },
    "tags": []
   },
   "outputs": [],
   "source": [
    "a = torch.randn(size=(),requires_grad=True)"
   ]
  },
  {
   "cell_type": "code",
   "execution_count": 48,
   "id": "991c4287-f509-430a-96b5-6a930dffa0c2",
   "metadata": {},
   "outputs": [
    {
     "name": "stdout",
     "output_type": "stream",
     "text": [
      "tensor(-0.5552, requires_grad=True)\n"
     ]
    },
    {
     "data": {
      "text/plain": [
       "(tensor(0.5552, grad_fn=<LinalgVectorNormBackward0>),\n",
       " tensor(-0.5552, grad_fn=<SumBackward0>))"
      ]
     },
     "execution_count": 48,
     "metadata": {},
     "output_type": "execute_result"
    }
   ],
   "source": [
    "print(a)\n",
    "a.norm(),a.sum()"
   ]
  },
  {
   "cell_type": "code",
   "execution_count": 40,
   "id": "f005fb3b-cac0-4c93-b689-3c58e9ed5afa",
   "metadata": {
    "editable": true,
    "slideshow": {
     "slide_type": ""
    },
    "tags": []
   },
   "outputs": [],
   "source": [
    "def f(a):\n",
    "    b = a*2\n",
    "    while b.norm() <1000:\n",
    "        b = b*2\n",
    "    if b.sum() >0:\n",
    "        c = b\n",
    "    else:\n",
    "        c= 100*b\n",
    "    return c    "
   ]
  },
  {
   "cell_type": "code",
   "execution_count": 41,
   "id": "4ee08e9a-1904-4020-924a-35eb4363d78c",
   "metadata": {},
   "outputs": [],
   "source": [
    "d = f(a)"
   ]
  },
  {
   "cell_type": "code",
   "execution_count": 42,
   "id": "5e32eba5-0921-4ccc-9ae5-716e6cf50518",
   "metadata": {},
   "outputs": [],
   "source": [
    "d.backward()"
   ]
  },
  {
   "cell_type": "code",
   "execution_count": 43,
   "id": "27870697-600a-43eb-bad0-8fa389101aa8",
   "metadata": {},
   "outputs": [
    {
     "data": {
      "text/plain": [
       "tensor(204800.)"
      ]
     },
     "execution_count": 43,
     "metadata": {},
     "output_type": "execute_result"
    }
   ],
   "source": [
    "a.grad"
   ]
  },
  {
   "cell_type": "code",
   "execution_count": null,
   "id": "ab9a5c78-de61-4d5f-b88c-e0d350d5c2ff",
   "metadata": {},
   "outputs": [],
   "source": []
  }
 ],
 "metadata": {
  "kernelspec": {
   "display_name": "Python 3 (ipykernel)",
   "language": "python",
   "name": "python3"
  },
  "language_info": {
   "codemirror_mode": {
    "name": "ipython",
    "version": 3
   },
   "file_extension": ".py",
   "mimetype": "text/x-python",
   "name": "python",
   "nbconvert_exporter": "python",
   "pygments_lexer": "ipython3",
   "version": "3.10.8"
  }
 },
 "nbformat": 4,
 "nbformat_minor": 5
}
